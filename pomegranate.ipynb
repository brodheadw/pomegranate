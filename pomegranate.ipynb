{
 "cells": [
  {
   "cell_type": "code",
   "execution_count": 5,
   "metadata": {},
   "outputs": [],
   "source": [
    "import os\n",
    "import shutil"
   ]
  },
  {
   "cell_type": "code",
   "execution_count": 6,
   "metadata": {},
   "outputs": [],
   "source": [
    "root_dir = os.path.dirname(os.path.abspath(\"/Users/willb/Desktop/sys/Github/pomegranate/VOC2007/\"))\n",
    "annotations_dir = os.path.join(root_dir, \"Annotations\")\n",
    "images_dir = os.path.join(root_dir, \"JPEGImages\")\n",
    "sets_dir = os.path.join(root_dir, \"ImageSets\", \"Main\")\n",
    "labels_dir = os.path.join(root_dir, \"labels\")\n",
    "\n",
    "dest_base_dir = os.path.join(root_dir, \"dataset_splits\")"
   ]
  },
  {
   "cell_type": "code",
   "execution_count": 7,
   "metadata": {},
   "outputs": [],
   "source": [
    "for split in ['train', 'val', 'test']:\n",
    "    os.makedirs(os.path.join(dest_base_dir, split, 'images'), exist_ok=True)\n",
    "    os.makedirs(os.path.join(dest_base_dir, split, 'annotations'), exist_ok=True)\n",
    "    os.makedirs(os.path.join(dest_base_dir, split, 'labels'), exist_ok=True)"
   ]
  },
  {
   "cell_type": "code",
   "execution_count": 8,
   "metadata": {},
   "outputs": [],
   "source": [
    "def distribute_files(files, split):\n",
    "    with open(files, 'r') as f:\n",
    "        filenames = f.read().splitlines()\n",
    "\n",
    "        for filename in filenames:\n",
    "            image_src = os.path.join(images_dir, filename + '.jpg')\n",
    "            annotation_src = os.path.join(annotations_dir, filename + '.xml')\n",
    "            label_src = os.path.join(labels_dir, filename + '.txt')  # Assuming a parallel structure for labels\n",
    "            \n",
    "            image_dest = os.path.join(dest_base_dir, split, 'images', filename + '.jpg')\n",
    "            annotation_dest = os.path.join(dest_base_dir, split, 'annotations', filename + '.xml')\n",
    "            label_dest = os.path.join(dest_base_dir, split, 'labels', filename + '.txt')  # Destination for labels\n",
    "            \n",
    "            # Move the files\n",
    "            shutil.move(image_src, image_dest)\n",
    "            shutil.move(annotation_src, annotation_dest)\n",
    "            shutil.move(label_src, label_dest)\n",
    "\n",
    "for split in ['train', 'val', 'test']:\n",
    "    distribute_files(os.path.join(sets_dir, split + '.txt'), split)"
   ]
  }
 ],
 "metadata": {
  "kernelspec": {
   "display_name": "Python 3",
   "language": "python",
   "name": "python3"
  },
  "language_info": {
   "codemirror_mode": {
    "name": "ipython",
    "version": 3
   },
   "file_extension": ".py",
   "mimetype": "text/x-python",
   "name": "python",
   "nbconvert_exporter": "python",
   "pygments_lexer": "ipython3",
   "version": "3.11.7"
  }
 },
 "nbformat": 4,
 "nbformat_minor": 2
}
